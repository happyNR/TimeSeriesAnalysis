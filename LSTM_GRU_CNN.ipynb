{
 "cells": [
  {
   "cell_type": "markdown",
   "metadata": {},
   "source": [
    "# Time Series Data - Deep Learning"
   ]
  },
  {
   "cell_type": "code",
   "execution_count": 4,
   "metadata": {},
   "outputs": [
    {
     "name": "stderr",
     "output_type": "stream",
     "text": [
      "Using TensorFlow backend.\n"
     ]
    }
   ],
   "source": [
    "import pandas as pd\n",
    "import numpy as np\n",
    "from keras import optimizers\n",
    "from keras.utils import plot_model\n",
    "from keras.models import Sequential, Model\n",
    "from keras.layers.convolutional import Conv1D, MaxPooling1D\n",
    "from keras.layers import Dense, LSTM, RepeatVector, TimeDistributed, Flatten\n",
    "from sklearn.metrics import mean_squared_error\n",
    "from sklearn.model_selection import train_test_split\n",
    "#import plotly.plotly as py\n",
    "#import plotly.graph_objs as go\n",
    "#from plotly.offline import init_notebook_mode, iplot\n",
    "#init_notebook_mode(connected=True)\n",
    "\n",
    "# Set seeds to make the experiment more reproducible.\n",
    "from tensorflow import set_random_seed\n",
    "from numpy.random import seed\n",
    "set_random_seed(1)\n",
    "seed(1)\n",
    "from keras.layers import Dense, LSTM, Dropout, GRU, Bidirectional"
   ]
  },
  {
   "cell_type": "code",
   "execution_count": 69,
   "metadata": {},
   "outputs": [],
   "source": [
    "df_price = pd.read_csv('./폐렴(2014-2018).csv',parse_dates=['date'],index_col='date' ,encoding='cp949')"
   ]
  },
  {
   "cell_type": "code",
   "execution_count": 71,
   "metadata": {},
   "outputs": [],
   "source": [
    "from sklearn.preprocessing import MinMaxScaler"
   ]
  },
  {
   "cell_type": "code",
   "execution_count": 72,
   "metadata": {},
   "outputs": [],
   "source": [
    "scaler = MinMaxScaler()"
   ]
  },
  {
   "cell_type": "code",
   "execution_count": 73,
   "metadata": {},
   "outputs": [],
   "source": [
    "df = df_price"
   ]
  },
  {
   "cell_type": "code",
   "execution_count": 74,
   "metadata": {},
   "outputs": [],
   "source": [
    "scale_cols = []\n",
    "#scale_cols = [']"
   ]
  },
  {
   "cell_type": "code",
   "execution_count": 75,
   "metadata": {},
   "outputs": [],
   "source": [
    "df_scaled = scaler.fit_transform(df[scale_cols])"
   ]
  },
  {
   "cell_type": "code",
   "execution_count": 76,
   "metadata": {},
   "outputs": [],
   "source": [
    "df_scaled = pd.DataFrame(df_scaled)\n",
    "df_scaled.columns = scale_cols"
   ]
  },
  {
   "cell_type": "code",
   "execution_count": 78,
   "metadata": {},
   "outputs": [],
   "source": [
    "TEST_SIZE = \n",
    "WINDOW_SIZE = "
   ]
  },
  {
   "cell_type": "code",
   "execution_count": null,
   "metadata": {},
   "outputs": [],
   "source": [
    "train = df_scaled[:-TEST_SIZE]"
   ]
  },
  {
   "cell_type": "code",
   "execution_count": null,
   "metadata": {},
   "outputs": [],
   "source": [
    "test = df_scaled[-TEST_SIZE:]"
   ]
  },
  {
   "cell_type": "code",
   "execution_count": 81,
   "metadata": {},
   "outputs": [],
   "source": [
    "def make_dataset(data, label, window_size = 14):\n",
    "    feature_list = []\n",
    "    label_list = []\n",
    "    for i in range(len(data) - window_size):\n",
    "        feature_list.append(np.array(data.iloc[i:i+window_size]))\n",
    "        label_list.append(np.array(label.iloc[i+window_size]))\n",
    "    return np.array(feature_list), np.array(label_list)"
   ]
  },
  {
   "cell_type": "code",
   "execution_count": 82,
   "metadata": {},
   "outputs": [],
   "source": [
    "feature_cols = []\n",
    "#feature_cols = []\n",
    "label_cols = []"
   ]
  },
  {
   "cell_type": "code",
   "execution_count": 83,
   "metadata": {},
   "outputs": [],
   "source": [
    "train_feature = train[feature_cols]\n",
    "train_label = train[label_cols]"
   ]
  },
  {
   "cell_type": "code",
   "execution_count": 84,
   "metadata": {},
   "outputs": [],
   "source": [
    "from sklearn.model_selection import train_test_split\n",
    "X_train, X_valid, Y_train, Y_valid = train_test_split(train_feature, train_label, test_size=0.1)"
   ]
  },
  {
   "cell_type": "code",
   "execution_count": 86,
   "metadata": {},
   "outputs": [],
   "source": [
    "test_feature = test[feature_cols]\n",
    "test_label = test[label_cols]"
   ]
  },
  {
   "cell_type": "markdown",
   "metadata": {},
   "source": [
    "# LSTM for Time Series Forecasting"
   ]
  },
  {
   "cell_type": "code",
   "execution_count": 89,
   "metadata": {},
   "outputs": [],
   "source": [
    "train_feature, train_label = make_dataset(train_feature, train_label, 14)"
   ]
  },
  {
   "cell_type": "code",
   "execution_count": 90,
   "metadata": {},
   "outputs": [],
   "source": [
    "from sklearn.model_selection import train_test_split\n",
    "x_train, x_valid, y_train, y_valid = train_test_split(train_feature, train_label, test_size=0.1)"
   ]
  },
  {
   "cell_type": "code",
   "execution_count": 92,
   "metadata": {},
   "outputs": [],
   "source": [
    "test_feature = test[feature_cols]\n",
    "test_label = test[label_cols]"
   ]
  },
  {
   "cell_type": "code",
   "execution_count": 94,
   "metadata": {},
   "outputs": [],
   "source": [
    "test_feature, test_label = make_dataset(test_feature, test_label, 14)"
   ]
  },
  {
   "cell_type": "code",
   "execution_count": 97,
   "metadata": {},
   "outputs": [],
   "source": [
    "model = Sequential()\n",
    "model.add(LSTM(50, \n",
    "               input_shape=(train_feature.shape[1], train_feature.shape[2]), \n",
    "               activation='relu', \n",
    "               return_sequences=False)\n",
    "          )\n",
    "#model.add(Dropout(0.2))\n",
    "# model.add(LSTM(16, return_sequences=False))\n",
    "# model.add(Dense(16, activation='linear'))\n",
    "model.add(Dense(1))"
   ]
  },
  {
   "cell_type": "code",
   "execution_count": 98,
   "metadata": {},
   "outputs": [],
   "source": [
    "model_path = './'"
   ]
  },
  {
   "cell_type": "code",
   "execution_count": 99,
   "metadata": {
    "scrolled": true
   },
   "outputs": [
    {
     "name": "stdout",
     "output_type": "stream",
     "text": [
      "Train on 1535 samples, validate on 171 samples\n",
      "Epoch 1/100\n",
      "1535/1535 [==============================] - 15s 10ms/step - loss: 0.0190 - val_loss: 0.0125\n",
      "\n",
      "Epoch 00001: val_loss improved from inf to 0.01246, saving model to E:/프로젝트/중기청/20190215_텍스트마이닝 자체 회의/20190215_텍스트마이닝 자체 회의/뉴스 데이터 추출/분석/통합(2014-2018)/분석/LSTM/tmp_checkpoint.h5\n",
      "Epoch 2/100\n",
      "1535/1535 [==============================] - 14s 9ms/step - loss: 0.0124 - val_loss: 0.0187\n",
      "\n",
      "Epoch 00002: val_loss did not improve from 0.01246\n",
      "Epoch 3/100\n",
      "1535/1535 [==============================] - 13s 8ms/step - loss: 0.0108 - val_loss: 0.0100\n",
      "\n",
      "Epoch 00003: val_loss improved from 0.01246 to 0.00998, saving model to E:/프로젝트/중기청/20190215_텍스트마이닝 자체 회의/20190215_텍스트마이닝 자체 회의/뉴스 데이터 추출/분석/통합(2014-2018)/분석/LSTM/tmp_checkpoint.h5\n",
      "Epoch 4/100\n",
      "1535/1535 [==============================] - 13s 9ms/step - loss: 0.0097 - val_loss: 0.0097\n",
      "\n",
      "Epoch 00004: val_loss improved from 0.00998 to 0.00971, saving model to E:/프로젝트/중기청/20190215_텍스트마이닝 자체 회의/20190215_텍스트마이닝 자체 회의/뉴스 데이터 추출/분석/통합(2014-2018)/분석/LSTM/tmp_checkpoint.h5\n",
      "Epoch 5/100\n",
      "1535/1535 [==============================] - 13s 8ms/step - loss: 0.0087 - val_loss: 0.0087\n",
      "\n",
      "Epoch 00005: val_loss improved from 0.00971 to 0.00874, saving model to E:/프로젝트/중기청/20190215_텍스트마이닝 자체 회의/20190215_텍스트마이닝 자체 회의/뉴스 데이터 추출/분석/통합(2014-2018)/분석/LSTM/tmp_checkpoint.h5\n",
      "Epoch 6/100\n",
      "1535/1535 [==============================] - 13s 8ms/step - loss: 0.0086 - val_loss: 0.0090\n",
      "\n",
      "Epoch 00006: val_loss did not improve from 0.00874\n",
      "Epoch 7/100\n",
      "1535/1535 [==============================] - 13s 8ms/step - loss: 0.0081 - val_loss: 0.0080\n",
      "\n",
      "Epoch 00007: val_loss improved from 0.00874 to 0.00797, saving model to E:/프로젝트/중기청/20190215_텍스트마이닝 자체 회의/20190215_텍스트마이닝 자체 회의/뉴스 데이터 추출/분석/통합(2014-2018)/분석/LSTM/tmp_checkpoint.h5\n",
      "Epoch 8/100\n",
      "1535/1535 [==============================] - 13s 9ms/step - loss: 0.0080 - val_loss: 0.0083\n",
      "\n",
      "Epoch 00008: val_loss did not improve from 0.00797\n",
      "Epoch 9/100\n",
      "1535/1535 [==============================] - 14s 9ms/step - loss: 0.0075 - val_loss: 0.0086\n",
      "\n",
      "Epoch 00009: val_loss did not improve from 0.00797\n",
      "Epoch 10/100\n",
      "1535/1535 [==============================] - 15s 10ms/step - loss: 0.0068 - val_loss: 0.0084\n",
      "\n",
      "Epoch 00010: val_loss did not improve from 0.00797\n",
      "Epoch 11/100\n",
      "1535/1535 [==============================] - 18s 12ms/step - loss: 0.0069 - val_loss: 0.0089\n",
      "\n",
      "Epoch 00011: val_loss did not improve from 0.00797\n",
      "Epoch 12/100\n",
      "1535/1535 [==============================] - 17s 11ms/step - loss: 0.0066 - val_loss: 0.0083\n",
      "\n",
      "Epoch 00012: val_loss did not improve from 0.00797\n"
     ]
    }
   ],
   "source": [
    "from keras.callbacks import EarlyStopping, ModelCheckpoint\n",
    "model.compile(loss='mean_squared_error', optimizer='adam')\n",
    "early_stop = EarlyStopping(monitor='val_loss', patience=5)\n",
    "filename = os.path.join(model_path, 'tmp_checkpoint.h5')\n",
    "checkpoint = ModelCheckpoint(filename, monitor='val_loss', verbose=1, save_best_only=True, mode='auto')\n",
    "\n",
    "history = model.fit(x_train, y_train, \n",
    "                                    epochs=100, \n",
    "                                    batch_size=1,\n",
    "                                    validation_data=(x_valid, y_valid), \n",
    "                                    callbacks=[early_stop, checkpoint])"
   ]
  },
  {
   "cell_type": "code",
   "execution_count": 100,
   "metadata": {},
   "outputs": [],
   "source": [
    "model.load_weights(filename)"
   ]
  },
  {
   "cell_type": "code",
   "execution_count": 101,
   "metadata": {},
   "outputs": [],
   "source": [
    "pred = model.predict(test_feature)"
   ]
  },
  {
   "cell_type": "markdown",
   "metadata": {},
   "source": [
    "# CNN for Time Series Forecasting"
   ]
  },
  {
   "cell_type": "code",
   "execution_count": 56,
   "metadata": {},
   "outputs": [],
   "source": [
    "model_cnn = Sequential()\n",
    "model_cnn.add(Conv1D(filters=64, kernel_size=2, activation='relu', input_shape=(train_feature.shape[1], train_feature.shape[2])))\n",
    "model_cnn.add(MaxPooling1D(pool_size=2))\n",
    "model_cnn.add(Flatten())\n",
    "model_cnn.add(Dense(50, activation='relu'))\n",
    "#model_cnn.add(Dropout(0.2))\n",
    "model_cnn.add(Dense(1))"
   ]
  },
  {
   "cell_type": "code",
   "execution_count": 57,
   "metadata": {},
   "outputs": [],
   "source": [
    "model_path = './'"
   ]
  },
  {
   "cell_type": "code",
   "execution_count": 58,
   "metadata": {},
   "outputs": [
    {
     "name": "stdout",
     "output_type": "stream",
     "text": [
      "Train on 1535 samples, validate on 171 samples\n",
      "Epoch 1/100\n",
      "1535/1535 [==============================] - 3s 2ms/step - loss: 0.0296 - val_loss: 0.0208\n",
      "\n",
      "Epoch 00001: val_loss improved from inf to 0.02082, saving model to E:/프로젝트/중기청/20190215_텍스트마이닝 자체 회의/20190215_텍스트마이닝 자체 회의/뉴스 데이터 추출/분석/통합(2014-2018)/분석/CNN/tmp_checkpoint.h5\n",
      "Epoch 2/100\n",
      "1535/1535 [==============================] - 3s 2ms/step - loss: 0.0174 - val_loss: 0.0163\n",
      "\n",
      "Epoch 00002: val_loss improved from 0.02082 to 0.01631, saving model to E:/프로젝트/중기청/20190215_텍스트마이닝 자체 회의/20190215_텍스트마이닝 자체 회의/뉴스 데이터 추출/분석/통합(2014-2018)/분석/CNN/tmp_checkpoint.h5\n",
      "Epoch 3/100\n",
      "1535/1535 [==============================] - 3s 2ms/step - loss: 0.0118 - val_loss: 0.0144\n",
      "\n",
      "Epoch 00003: val_loss improved from 0.01631 to 0.01445, saving model to E:/프로젝트/중기청/20190215_텍스트마이닝 자체 회의/20190215_텍스트마이닝 자체 회의/뉴스 데이터 추출/분석/통합(2014-2018)/분석/CNN/tmp_checkpoint.h5\n",
      "Epoch 4/100\n",
      "1535/1535 [==============================] - 3s 2ms/step - loss: 0.0085 - val_loss: 0.0095\n",
      "\n",
      "Epoch 00004: val_loss improved from 0.01445 to 0.00946, saving model to E:/프로젝트/중기청/20190215_텍스트마이닝 자체 회의/20190215_텍스트마이닝 자체 회의/뉴스 데이터 추출/분석/통합(2014-2018)/분석/CNN/tmp_checkpoint.h5\n",
      "Epoch 5/100\n",
      "1535/1535 [==============================] - 3s 2ms/step - loss: 0.0071 - val_loss: 0.0065\n",
      "\n",
      "Epoch 00005: val_loss improved from 0.00946 to 0.00652, saving model to E:/프로젝트/중기청/20190215_텍스트마이닝 자체 회의/20190215_텍스트마이닝 자체 회의/뉴스 데이터 추출/분석/통합(2014-2018)/분석/CNN/tmp_checkpoint.h5\n",
      "Epoch 6/100\n",
      "1535/1535 [==============================] - 3s 2ms/step - loss: 0.0058 - val_loss: 0.0059\n",
      "\n",
      "Epoch 00006: val_loss improved from 0.00652 to 0.00592, saving model to E:/프로젝트/중기청/20190215_텍스트마이닝 자체 회의/20190215_텍스트마이닝 자체 회의/뉴스 데이터 추출/분석/통합(2014-2018)/분석/CNN/tmp_checkpoint.h5\n",
      "Epoch 7/100\n",
      "1535/1535 [==============================] - 3s 2ms/step - loss: 0.0053 - val_loss: 0.0052\n",
      "\n",
      "Epoch 00007: val_loss improved from 0.00592 to 0.00523, saving model to E:/프로젝트/중기청/20190215_텍스트마이닝 자체 회의/20190215_텍스트마이닝 자체 회의/뉴스 데이터 추출/분석/통합(2014-2018)/분석/CNN/tmp_checkpoint.h5\n",
      "Epoch 8/100\n",
      "1535/1535 [==============================] - 3s 2ms/step - loss: 0.0042 - val_loss: 0.0057\n",
      "\n",
      "Epoch 00008: val_loss did not improve from 0.00523\n",
      "Epoch 9/100\n",
      "1535/1535 [==============================] - 3s 2ms/step - loss: 0.0037 - val_loss: 0.0046\n",
      "\n",
      "Epoch 00009: val_loss improved from 0.00523 to 0.00465, saving model to E:/프로젝트/중기청/20190215_텍스트마이닝 자체 회의/20190215_텍스트마이닝 자체 회의/뉴스 데이터 추출/분석/통합(2014-2018)/분석/CNN/tmp_checkpoint.h5\n",
      "Epoch 10/100\n",
      "1535/1535 [==============================] - 3s 2ms/step - loss: 0.0037 - val_loss: 0.0061\n",
      "\n",
      "Epoch 00010: val_loss did not improve from 0.00465\n",
      "Epoch 11/100\n",
      "1535/1535 [==============================] - 3s 2ms/step - loss: 0.0030 - val_loss: 0.0039\n",
      "\n",
      "Epoch 00011: val_loss improved from 0.00465 to 0.00394, saving model to E:/프로젝트/중기청/20190215_텍스트마이닝 자체 회의/20190215_텍스트마이닝 자체 회의/뉴스 데이터 추출/분석/통합(2014-2018)/분석/CNN/tmp_checkpoint.h5\n",
      "Epoch 12/100\n",
      "1535/1535 [==============================] - 3s 2ms/step - loss: 0.0030 - val_loss: 0.0044\n",
      "\n",
      "Epoch 00012: val_loss did not improve from 0.00394\n",
      "Epoch 13/100\n",
      "1535/1535 [==============================] - 3s 2ms/step - loss: 0.0027 - val_loss: 0.0057\n",
      "\n",
      "Epoch 00013: val_loss did not improve from 0.00394\n",
      "Epoch 14/100\n",
      "1535/1535 [==============================] - 3s 2ms/step - loss: 0.0024 - val_loss: 0.0043\n",
      "\n",
      "Epoch 00014: val_loss did not improve from 0.00394\n",
      "Epoch 15/100\n",
      "1535/1535 [==============================] - 3s 2ms/step - loss: 0.0024 - val_loss: 0.0044\n",
      "\n",
      "Epoch 00015: val_loss did not improve from 0.00394\n",
      "Epoch 16/100\n",
      "1535/1535 [==============================] - 3s 2ms/step - loss: 0.0023 - val_loss: 0.0037\n",
      "\n",
      "Epoch 00016: val_loss improved from 0.00394 to 0.00374, saving model to E:/프로젝트/중기청/20190215_텍스트마이닝 자체 회의/20190215_텍스트마이닝 자체 회의/뉴스 데이터 추출/분석/통합(2014-2018)/분석/CNN/tmp_checkpoint.h5\n",
      "Epoch 17/100\n",
      "1535/1535 [==============================] - 3s 2ms/step - loss: 0.0020 - val_loss: 0.0049\n",
      "\n",
      "Epoch 00017: val_loss did not improve from 0.00374\n",
      "Epoch 18/100\n",
      "1535/1535 [==============================] - 3s 2ms/step - loss: 0.0021 - val_loss: 0.0039\n",
      "\n",
      "Epoch 00018: val_loss did not improve from 0.00374\n",
      "Epoch 19/100\n",
      "1535/1535 [==============================] - 3s 2ms/step - loss: 0.0021 - val_loss: 0.0048\n",
      "\n",
      "Epoch 00019: val_loss did not improve from 0.00374\n",
      "Epoch 20/100\n",
      "1535/1535 [==============================] - 3s 2ms/step - loss: 0.0017 - val_loss: 0.0033\n",
      "\n",
      "Epoch 00020: val_loss improved from 0.00374 to 0.00331, saving model to E:/프로젝트/중기청/20190215_텍스트마이닝 자체 회의/20190215_텍스트마이닝 자체 회의/뉴스 데이터 추출/분석/통합(2014-2018)/분석/CNN/tmp_checkpoint.h5\n",
      "Epoch 21/100\n",
      "1535/1535 [==============================] - 3s 2ms/step - loss: 0.0016 - val_loss: 0.0040\n",
      "\n",
      "Epoch 00021: val_loss did not improve from 0.00331\n",
      "Epoch 22/100\n",
      "1535/1535 [==============================] - 3s 2ms/step - loss: 0.0017 - val_loss: 0.0031\n",
      "\n",
      "Epoch 00022: val_loss improved from 0.00331 to 0.00313, saving model to E:/프로젝트/중기청/20190215_텍스트마이닝 자체 회의/20190215_텍스트마이닝 자체 회의/뉴스 데이터 추출/분석/통합(2014-2018)/분석/CNN/tmp_checkpoint.h5\n",
      "Epoch 23/100\n",
      "1535/1535 [==============================] - 3s 2ms/step - loss: 0.0014 - val_loss: 0.0037\n",
      "\n",
      "Epoch 00023: val_loss did not improve from 0.00313\n",
      "Epoch 24/100\n",
      "1535/1535 [==============================] - 3s 2ms/step - loss: 0.0015 - val_loss: 0.0039\n",
      "\n",
      "Epoch 00024: val_loss did not improve from 0.00313\n",
      "Epoch 25/100\n",
      "1535/1535 [==============================] - 3s 2ms/step - loss: 0.0014 - val_loss: 0.0043\n",
      "\n",
      "Epoch 00025: val_loss did not improve from 0.00313\n",
      "Epoch 26/100\n",
      "1535/1535 [==============================] - 3s 2ms/step - loss: 0.0014 - val_loss: 0.0045\n",
      "\n",
      "Epoch 00026: val_loss did not improve from 0.00313\n",
      "Epoch 27/100\n",
      "1535/1535 [==============================] - 3s 2ms/step - loss: 0.0013 - val_loss: 0.0034\n",
      "\n",
      "Epoch 00027: val_loss did not improve from 0.00313\n"
     ]
    }
   ],
   "source": [
    "model_cnn.compile(loss='mean_squared_error', optimizer='adam')\n",
    "early_stop = EarlyStopping(monitor='val_loss', patience=5)\n",
    "filename = os.path.join(model_path, 'tmp_checkpoint.h5')\n",
    "checkpoint = ModelCheckpoint(filename, monitor='val_loss', verbose=1, save_best_only=True, mode='auto')\n",
    "\n",
    "cnn_history = model_cnn.fit(x_train, y_train, \n",
    "                                    epochs=100, \n",
    "                                    batch_size=1,\n",
    "                                    validation_data=(x_valid, y_valid), \n",
    "                                    callbacks=[early_stop, checkpoint])"
   ]
  },
  {
   "cell_type": "code",
   "execution_count": 59,
   "metadata": {},
   "outputs": [],
   "source": [
    "model_cnn.load_weights(filename)"
   ]
  },
  {
   "cell_type": "code",
   "execution_count": 60,
   "metadata": {},
   "outputs": [],
   "source": [
    "pred = model_cnn.predict(test_feature)"
   ]
  },
  {
   "cell_type": "markdown",
   "metadata": {},
   "source": [
    "# GRU for Time Series Forecasting"
   ]
  },
  {
   "cell_type": "code",
   "execution_count": 63,
   "metadata": {},
   "outputs": [],
   "source": [
    "regressorGRU = Sequential()\n",
    "# First GRU layer with Dropout regularisation\n",
    "regressorGRU.add(GRU(units=50, return_sequences=False, input_shape=(train_feature.shape[1], train_feature.shape[2]), activation='relu'))\n",
    "#regressorGRU.add(Dropout(0.2))\n",
    "regressorGRU.add(Dense(1))"
   ]
  },
  {
   "cell_type": "code",
   "execution_count": 64,
   "metadata": {},
   "outputs": [],
   "source": [
    "model_path = './'"
   ]
  },
  {
   "cell_type": "code",
   "execution_count": 65,
   "metadata": {},
   "outputs": [
    {
     "name": "stdout",
     "output_type": "stream",
     "text": [
      "Train on 1535 samples, validate on 171 samples\n",
      "Epoch 1/100\n",
      "1535/1535 [==============================] - 10s 7ms/step - loss: 0.0294 - val_loss: 0.0255\n",
      "\n",
      "Epoch 00001: val_loss improved from inf to 0.02546, saving model to E:/프로젝트/중기청/20190215_텍스트마이닝 자체 회의/20190215_텍스트마이닝 자체 회의/뉴스 데이터 추출/분석/통합(2014-2018)/분석/GRU/tmp_checkpoint.h5\n",
      "Epoch 2/100\n",
      "1535/1535 [==============================] - 10s 6ms/step - loss: 0.0228 - val_loss: 0.0220\n",
      "\n",
      "Epoch 00002: val_loss improved from 0.02546 to 0.02202, saving model to E:/프로젝트/중기청/20190215_텍스트마이닝 자체 회의/20190215_텍스트마이닝 자체 회의/뉴스 데이터 추출/분석/통합(2014-2018)/분석/GRU/tmp_checkpoint.h5\n",
      "Epoch 3/100\n",
      "1535/1535 [==============================] - 10s 6ms/step - loss: 0.0194 - val_loss: 0.0196\n",
      "\n",
      "Epoch 00003: val_loss improved from 0.02202 to 0.01959, saving model to E:/프로젝트/중기청/20190215_텍스트마이닝 자체 회의/20190215_텍스트마이닝 자체 회의/뉴스 데이터 추출/분석/통합(2014-2018)/분석/GRU/tmp_checkpoint.h5\n",
      "Epoch 4/100\n",
      "1535/1535 [==============================] - 10s 6ms/step - loss: 0.0169 - val_loss: 0.0147\n",
      "\n",
      "Epoch 00004: val_loss improved from 0.01959 to 0.01474, saving model to E:/프로젝트/중기청/20190215_텍스트마이닝 자체 회의/20190215_텍스트마이닝 자체 회의/뉴스 데이터 추출/분석/통합(2014-2018)/분석/GRU/tmp_checkpoint.h5\n",
      "Epoch 5/100\n",
      "1535/1535 [==============================] - 10s 6ms/step - loss: 0.0138 - val_loss: 0.0138\n",
      "\n",
      "Epoch 00005: val_loss improved from 0.01474 to 0.01381, saving model to E:/프로젝트/중기청/20190215_텍스트마이닝 자체 회의/20190215_텍스트마이닝 자체 회의/뉴스 데이터 추출/분석/통합(2014-2018)/분석/GRU/tmp_checkpoint.h5\n",
      "Epoch 6/100\n",
      "1535/1535 [==============================] - 10s 6ms/step - loss: 0.0122 - val_loss: 0.0108\n",
      "\n",
      "Epoch 00006: val_loss improved from 0.01381 to 0.01078, saving model to E:/프로젝트/중기청/20190215_텍스트마이닝 자체 회의/20190215_텍스트마이닝 자체 회의/뉴스 데이터 추출/분석/통합(2014-2018)/분석/GRU/tmp_checkpoint.h5\n",
      "Epoch 7/100\n",
      "1535/1535 [==============================] - 10s 6ms/step - loss: 0.0110 - val_loss: 0.0097\n",
      "\n",
      "Epoch 00007: val_loss improved from 0.01078 to 0.00975, saving model to E:/프로젝트/중기청/20190215_텍스트마이닝 자체 회의/20190215_텍스트마이닝 자체 회의/뉴스 데이터 추출/분석/통합(2014-2018)/분석/GRU/tmp_checkpoint.h5\n",
      "Epoch 8/100\n",
      "1535/1535 [==============================] - 10s 7ms/step - loss: 0.0097 - val_loss: 0.0087\n",
      "\n",
      "Epoch 00008: val_loss improved from 0.00975 to 0.00867, saving model to E:/프로젝트/중기청/20190215_텍스트마이닝 자체 회의/20190215_텍스트마이닝 자체 회의/뉴스 데이터 추출/분석/통합(2014-2018)/분석/GRU/tmp_checkpoint.h5\n",
      "Epoch 9/100\n",
      "1535/1535 [==============================] - 10s 6ms/step - loss: 0.0087 - val_loss: 0.0085\n",
      "\n",
      "Epoch 00009: val_loss improved from 0.00867 to 0.00851, saving model to E:/프로젝트/중기청/20190215_텍스트마이닝 자체 회의/20190215_텍스트마이닝 자체 회의/뉴스 데이터 추출/분석/통합(2014-2018)/분석/GRU/tmp_checkpoint.h5\n",
      "Epoch 10/100\n",
      "1535/1535 [==============================] - 10s 6ms/step - loss: 0.0081 - val_loss: 0.0080\n",
      "\n",
      "Epoch 00010: val_loss improved from 0.00851 to 0.00798, saving model to E:/프로젝트/중기청/20190215_텍스트마이닝 자체 회의/20190215_텍스트마이닝 자체 회의/뉴스 데이터 추출/분석/통합(2014-2018)/분석/GRU/tmp_checkpoint.h5\n",
      "Epoch 11/100\n",
      "1535/1535 [==============================] - 10s 6ms/step - loss: 0.0075 - val_loss: 0.0072\n",
      "\n",
      "Epoch 00011: val_loss improved from 0.00798 to 0.00724, saving model to E:/프로젝트/중기청/20190215_텍스트마이닝 자체 회의/20190215_텍스트마이닝 자체 회의/뉴스 데이터 추출/분석/통합(2014-2018)/분석/GRU/tmp_checkpoint.h5\n",
      "Epoch 12/100\n",
      "1535/1535 [==============================] - 10s 6ms/step - loss: 0.0069 - val_loss: 0.0076\n",
      "\n",
      "Epoch 00012: val_loss did not improve from 0.00724\n",
      "Epoch 13/100\n",
      "1535/1535 [==============================] - 10s 6ms/step - loss: 0.0065 - val_loss: 0.0152\n",
      "\n",
      "Epoch 00013: val_loss did not improve from 0.00724\n",
      "Epoch 14/100\n",
      "1535/1535 [==============================] - 10s 6ms/step - loss: 0.0060 - val_loss: 0.0089\n",
      "\n",
      "Epoch 00014: val_loss did not improve from 0.00724\n",
      "Epoch 15/100\n",
      "1535/1535 [==============================] - 10s 6ms/step - loss: 0.0057 - val_loss: 0.0062\n",
      "\n",
      "Epoch 00015: val_loss improved from 0.00724 to 0.00621, saving model to E:/프로젝트/중기청/20190215_텍스트마이닝 자체 회의/20190215_텍스트마이닝 자체 회의/뉴스 데이터 추출/분석/통합(2014-2018)/분석/GRU/tmp_checkpoint.h5\n",
      "Epoch 16/100\n",
      "1535/1535 [==============================] - 10s 6ms/step - loss: 0.0055 - val_loss: 0.0056\n",
      "\n",
      "Epoch 00016: val_loss improved from 0.00621 to 0.00555, saving model to E:/프로젝트/중기청/20190215_텍스트마이닝 자체 회의/20190215_텍스트마이닝 자체 회의/뉴스 데이터 추출/분석/통합(2014-2018)/분석/GRU/tmp_checkpoint.h5\n",
      "Epoch 17/100\n",
      "1535/1535 [==============================] - 10s 6ms/step - loss: 0.0052 - val_loss: 0.0078\n",
      "\n",
      "Epoch 00017: val_loss did not improve from 0.00555\n",
      "Epoch 18/100\n",
      "1535/1535 [==============================] - 10s 6ms/step - loss: 0.0050 - val_loss: 0.0055\n",
      "\n",
      "Epoch 00018: val_loss improved from 0.00555 to 0.00546, saving model to E:/프로젝트/중기청/20190215_텍스트마이닝 자체 회의/20190215_텍스트마이닝 자체 회의/뉴스 데이터 추출/분석/통합(2014-2018)/분석/GRU/tmp_checkpoint.h5\n",
      "Epoch 19/100\n",
      "1535/1535 [==============================] - 10s 6ms/step - loss: 0.0049 - val_loss: 0.0139\n",
      "\n",
      "Epoch 00019: val_loss did not improve from 0.00546\n",
      "Epoch 20/100\n",
      "1535/1535 [==============================] - 11s 7ms/step - loss: 0.0048 - val_loss: 0.0059\n",
      "\n",
      "Epoch 00020: val_loss did not improve from 0.00546\n",
      "Epoch 21/100\n",
      "1535/1535 [==============================] - 10s 7ms/step - loss: 0.0047 - val_loss: 0.0083\n",
      "\n",
      "Epoch 00021: val_loss did not improve from 0.00546\n",
      "Epoch 22/100\n",
      "1535/1535 [==============================] - 10s 6ms/step - loss: 0.0044 - val_loss: 0.0053\n",
      "\n",
      "Epoch 00022: val_loss improved from 0.00546 to 0.00533, saving model to E:/프로젝트/중기청/20190215_텍스트마이닝 자체 회의/20190215_텍스트마이닝 자체 회의/뉴스 데이터 추출/분석/통합(2014-2018)/분석/GRU/tmp_checkpoint.h5\n",
      "Epoch 23/100\n",
      "1535/1535 [==============================] - 10s 6ms/step - loss: 0.0042 - val_loss: 0.0055\n",
      "\n",
      "Epoch 00023: val_loss did not improve from 0.00533\n",
      "Epoch 24/100\n",
      "1535/1535 [==============================] - 10s 6ms/step - loss: 0.0043 - val_loss: 0.0048\n",
      "\n",
      "Epoch 00024: val_loss improved from 0.00533 to 0.00480, saving model to E:/프로젝트/중기청/20190215_텍스트마이닝 자체 회의/20190215_텍스트마이닝 자체 회의/뉴스 데이터 추출/분석/통합(2014-2018)/분석/GRU/tmp_checkpoint.h5\n",
      "Epoch 25/100\n",
      "1535/1535 [==============================] - 10s 6ms/step - loss: 0.0039 - val_loss: 0.0047\n",
      "\n",
      "Epoch 00025: val_loss improved from 0.00480 to 0.00470, saving model to E:/프로젝트/중기청/20190215_텍스트마이닝 자체 회의/20190215_텍스트마이닝 자체 회의/뉴스 데이터 추출/분석/통합(2014-2018)/분석/GRU/tmp_checkpoint.h5\n",
      "Epoch 26/100\n",
      "1535/1535 [==============================] - 10s 7ms/step - loss: 0.0041 - val_loss: 0.0045\n",
      "\n",
      "Epoch 00026: val_loss improved from 0.00470 to 0.00454, saving model to E:/프로젝트/중기청/20190215_텍스트마이닝 자체 회의/20190215_텍스트마이닝 자체 회의/뉴스 데이터 추출/분석/통합(2014-2018)/분석/GRU/tmp_checkpoint.h5\n",
      "Epoch 27/100\n",
      "1535/1535 [==============================] - 11s 7ms/step - loss: 0.0038 - val_loss: 0.0046\n",
      "\n",
      "Epoch 00027: val_loss did not improve from 0.00454\n",
      "Epoch 28/100\n",
      "1535/1535 [==============================] - 11s 7ms/step - loss: 0.0036 - val_loss: 0.0043\n",
      "\n",
      "Epoch 00028: val_loss improved from 0.00454 to 0.00432, saving model to E:/프로젝트/중기청/20190215_텍스트마이닝 자체 회의/20190215_텍스트마이닝 자체 회의/뉴스 데이터 추출/분석/통합(2014-2018)/분석/GRU/tmp_checkpoint.h5\n",
      "Epoch 29/100\n",
      "1535/1535 [==============================] - 10s 7ms/step - loss: 0.0036 - val_loss: 0.0054\n",
      "\n",
      "Epoch 00029: val_loss did not improve from 0.00432\n",
      "Epoch 30/100\n",
      "1535/1535 [==============================] - 11s 7ms/step - loss: 0.0036 - val_loss: 0.0046\n",
      "\n",
      "Epoch 00030: val_loss did not improve from 0.00432\n",
      "Epoch 31/100\n",
      "1535/1535 [==============================] - 10s 6ms/step - loss: 0.0033 - val_loss: 0.0039\n",
      "\n",
      "Epoch 00031: val_loss improved from 0.00432 to 0.00386, saving model to E:/프로젝트/중기청/20190215_텍스트마이닝 자체 회의/20190215_텍스트마이닝 자체 회의/뉴스 데이터 추출/분석/통합(2014-2018)/분석/GRU/tmp_checkpoint.h5\n",
      "Epoch 32/100\n",
      "1535/1535 [==============================] - 10s 7ms/step - loss: 0.0033 - val_loss: 0.0040\n",
      "\n",
      "Epoch 00032: val_loss did not improve from 0.00386\n",
      "Epoch 33/100\n",
      "1535/1535 [==============================] - 10s 6ms/step - loss: 0.0032 - val_loss: 0.0038\n",
      "\n",
      "Epoch 00033: val_loss improved from 0.00386 to 0.00379, saving model to E:/프로젝트/중기청/20190215_텍스트마이닝 자체 회의/20190215_텍스트마이닝 자체 회의/뉴스 데이터 추출/분석/통합(2014-2018)/분석/GRU/tmp_checkpoint.h5\n",
      "Epoch 34/100\n",
      "1535/1535 [==============================] - 10s 6ms/step - loss: 0.0032 - val_loss: 0.0037\n",
      "\n",
      "Epoch 00034: val_loss improved from 0.00379 to 0.00368, saving model to E:/프로젝트/중기청/20190215_텍스트마이닝 자체 회의/20190215_텍스트마이닝 자체 회의/뉴스 데이터 추출/분석/통합(2014-2018)/분석/GRU/tmp_checkpoint.h5\n",
      "Epoch 35/100\n"
     ]
    },
    {
     "name": "stdout",
     "output_type": "stream",
     "text": [
      "1535/1535 [==============================] - 10s 6ms/step - loss: 0.0031 - val_loss: 0.0039\n",
      "\n",
      "Epoch 00035: val_loss did not improve from 0.00368\n",
      "Epoch 36/100\n",
      "1535/1535 [==============================] - 10s 6ms/step - loss: 0.0031 - val_loss: 0.0048\n",
      "\n",
      "Epoch 00036: val_loss did not improve from 0.00368\n",
      "Epoch 37/100\n",
      "1535/1535 [==============================] - 10s 6ms/step - loss: 0.0030 - val_loss: 0.0033\n",
      "\n",
      "Epoch 00037: val_loss improved from 0.00368 to 0.00334, saving model to E:/프로젝트/중기청/20190215_텍스트마이닝 자체 회의/20190215_텍스트마이닝 자체 회의/뉴스 데이터 추출/분석/통합(2014-2018)/분석/GRU/tmp_checkpoint.h5\n",
      "Epoch 38/100\n",
      "1535/1535 [==============================] - 10s 6ms/step - loss: 0.0028 - val_loss: 0.0047\n",
      "\n",
      "Epoch 00038: val_loss did not improve from 0.00334\n",
      "Epoch 39/100\n",
      "1535/1535 [==============================] - 10s 6ms/step - loss: 0.0029 - val_loss: 0.0032\n",
      "\n",
      "Epoch 00039: val_loss improved from 0.00334 to 0.00319, saving model to E:/프로젝트/중기청/20190215_텍스트마이닝 자체 회의/20190215_텍스트마이닝 자체 회의/뉴스 데이터 추출/분석/통합(2014-2018)/분석/GRU/tmp_checkpoint.h5\n",
      "Epoch 40/100\n",
      "1535/1535 [==============================] - 10s 6ms/step - loss: 0.0028 - val_loss: 0.0049\n",
      "\n",
      "Epoch 00040: val_loss did not improve from 0.00319\n",
      "Epoch 41/100\n",
      "1535/1535 [==============================] - 10s 6ms/step - loss: 0.0027 - val_loss: 0.0038\n",
      "\n",
      "Epoch 00041: val_loss did not improve from 0.00319\n",
      "Epoch 42/100\n",
      "1535/1535 [==============================] - 10s 6ms/step - loss: 0.0027 - val_loss: 0.0034\n",
      "\n",
      "Epoch 00042: val_loss did not improve from 0.00319\n",
      "Epoch 43/100\n",
      "1535/1535 [==============================] - 10s 6ms/step - loss: 0.0026 - val_loss: 0.0035\n",
      "\n",
      "Epoch 00043: val_loss did not improve from 0.00319\n",
      "Epoch 44/100\n",
      "1535/1535 [==============================] - 10s 7ms/step - loss: 0.0026 - val_loss: 0.0042\n",
      "\n",
      "Epoch 00044: val_loss did not improve from 0.00319\n"
     ]
    }
   ],
   "source": [
    "regressorGRU.compile(loss='mean_squared_error', optimizer='adam')\n",
    "early_stop = EarlyStopping(monitor='val_loss', patience=5)\n",
    "filename = os.path.join(model_path, 'tmp_checkpoint.h5')\n",
    "checkpoint = ModelCheckpoint(filename, monitor='val_loss', verbose=1, save_best_only=True, mode='auto')\n",
    "\n",
    "gru_history = regressorGRU.fit(x_train, y_train, \n",
    "                                    epochs=100, \n",
    "                                    batch_size=1,\n",
    "                                    validation_data=(x_valid, y_valid), \n",
    "                                    callbacks=[early_stop, checkpoint])"
   ]
  },
  {
   "cell_type": "code",
   "execution_count": null,
   "metadata": {},
   "outputs": [],
   "source": [
    "regressorGRU.load_weights(filename)\n",
    "pred = regressorGRU.predict(test_feature)"
   ]
  },
  {
   "cell_type": "code",
   "execution_count": null,
   "metadata": {},
   "outputs": [],
   "source": []
  },
  {
   "cell_type": "code",
   "execution_count": null,
   "metadata": {},
   "outputs": [],
   "source": []
  }
 ],
 "metadata": {
  "kernelspec": {
   "display_name": "Python 3",
   "language": "python",
   "name": "python3"
  },
  "language_info": {
   "codemirror_mode": {
    "name": "ipython",
    "version": 3
   },
   "file_extension": ".py",
   "mimetype": "text/x-python",
   "name": "python",
   "nbconvert_exporter": "python",
   "pygments_lexer": "ipython3",
   "version": "3.7.8"
  }
 },
 "nbformat": 4,
 "nbformat_minor": 2
}
